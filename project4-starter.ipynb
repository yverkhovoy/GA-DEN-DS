{
 "cells": [
  {
   "cell_type": "markdown",
   "metadata": {},
   "source": [
    "# Project 4\n",
    "\n",
    "In this project, you will summarize and present your analysis from Projects 1-3."
   ]
  },
  {
   "cell_type": "markdown",
   "metadata": {},
   "source": [
    "### Intro: Write a problem Statement/ Specific Aim for this project"
   ]
  },
  {
   "cell_type": "markdown",
   "metadata": {},
   "source": [
    "Answer: Given past admission data for UCLA Graduate school, we will build a statistical model, which will identify significant admission criteria and create a predictive model that will provide probabilty of being admitted given 3 admission criteria: GPA, GRE, School Prestige."
   ]
  },
  {
   "cell_type": "markdown",
   "metadata": {},
   "source": [
    "### Dataset:  Write up a description of your data and any cleaning that was completed"
   ]
  },
  {
   "cell_type": "markdown",
   "metadata": {},
   "source": [
    "Answer: The data consisted of a CSV table which contained 4 columns: admitted, gpa, gre, prestige.  We eliminated rows which contained columns with no data from the dataset."
   ]
  },
  {
   "cell_type": "markdown",
   "metadata": {
    "collapsed": true
   },
   "source": [
    "### Demo: Provide a table that explains the data by admission status"
   ]
  },
  {
   "cell_type": "markdown",
   "metadata": {},
   "source": [
    "Mean (STD) or counts by admission status for each variable \n",
    "\n",
    "| Not Admitted | Admitted\n",
    "---| ---|---\n",
    "GPA | 3.347 (0.376355)  | 3.489 (0.371655)\n",
    "GRE | 573.58 (116.052798) | 618.57 (109.257233)\n",
    "Prestige 1\t|46.0%\t|54.0%\n",
    "Prestige 2\t|64.0%\t|36.0%\n",
    "Prestige 3\t|77.0%\t|23.0%\n",
    "Prestige 4\t|82.0%\t|18.0%"
   ]
  },
  {
   "cell_type": "markdown",
   "metadata": {},
   "source": [
    "### Methods: Write up the methods used in your analysis"
   ]
  },
  {
   "cell_type": "markdown",
   "metadata": {},
   "source": [
    "Answer: We used crosstab tables to come up with frequency percentages for students being admitted or not admitted based on undergraduate school prestige.  We used a pivit table with a standard deviation and mean calculations to come up with Means and Std. Deviations based on GPA and GRE scores."
   ]
  },
  {
   "cell_type": "markdown",
   "metadata": {},
   "source": [
    "### Results: Write up your results"
   ]
  },
  {
   "cell_type": "markdown",
   "metadata": {},
   "source": [
    "Answer:  Based on our analysis, 54% of students from 1-ranked schools get admitted to the program vs. only 18% of studens from 4th-ranked schools.  The odds of being accepted seem to be directly related to the undergrad school rating.  In addition, the difference in mean GPAs of admitted vs non admitted students seems to be very small (only 0.142), which is within the standard deviation for both groups.  The same is true for GRE scores.  Therefore, GPA and GRE scores seem to be weak predictors of admissions."
   ]
  },
  {
   "cell_type": "markdown",
   "metadata": {},
   "source": [
    "### Visuals: Provide a table or visualization of these results"
   ]
  },
  {
   "cell_type": "markdown",
   "metadata": {},
   "source": [
    "<img src='../img1.png' height= 50% width= 50%>"
   ]
  },
  {
   "cell_type": "markdown",
   "metadata": {},
   "source": [
    "<img src='../img2.png' height= 50% width= 50%>"
   ]
  },
  {
   "cell_type": "markdown",
   "metadata": {},
   "source": [
    "### Discussion: Write up your discussion and future steps"
   ]
  },
  {
   "cell_type": "markdown",
   "metadata": {},
   "source": [
    "Answer: As our analysis shows, prestige of the undergraduate school is a better predictor of admission than GPA and GRE scores.  For future steps we might consider collecting and analyzing more data such as particular graduate programs being applied to, and how the same variables affect chances of being admitted to different schools."
   ]
  }
 ],
 "metadata": {
  "kernelspec": {
   "display_name": "Python 2",
   "language": "python",
   "name": "python2"
  },
  "language_info": {
   "codemirror_mode": {
    "name": "ipython",
    "version": 2
   },
   "file_extension": ".py",
   "mimetype": "text/x-python",
   "name": "python",
   "nbconvert_exporter": "python",
   "pygments_lexer": "ipython2",
   "version": "2.7.13"
  }
 },
 "nbformat": 4,
 "nbformat_minor": 0
}
